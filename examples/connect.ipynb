{
 "cells": [
  {
   "cell_type": "code",
   "execution_count": null,
   "metadata": {},
   "outputs": [],
   "source": [
    "# run this if you want to run the example from the examples folder without installing the package\n",
    "import sys\n",
    "sys.path.insert(0, \"../\")"
   ]
  },
  {
   "cell_type": "code",
   "execution_count": 18,
   "metadata": {},
   "outputs": [],
   "source": [
    "from thorchainpy import Client\n",
    "\n",
    "client = Client(\n",
    "  base_url=\"https://thornode.ninerealms.com\",\n",
    ")"
   ]
  },
  {
   "attachments": {},
   "cell_type": "markdown",
   "metadata": {},
   "source": [
    "# Query Thornode\n",
    "## Ping the node"
   ]
  },
  {
   "cell_type": "code",
   "execution_count": null,
   "metadata": {},
   "outputs": [],
   "source": [
    "from thorchainpy.api.health.ping import sync as ping\n",
    "\n",
    "ping_result = ping(client=client)\n",
    "\n",
    "print(ping_result)\n"
   ]
  },
  {
   "attachments": {},
   "cell_type": "markdown",
   "metadata": {},
   "source": [
    "## Get pools"
   ]
  },
  {
   "cell_type": "code",
   "execution_count": null,
   "metadata": {},
   "outputs": [],
   "source": [
    "from thorchainpy.api.pools.pools import sync as get_pools\n",
    "\n",
    "pools = get_pools(client=client)\n",
    "\n",
    "# print first 5 pools\n",
    "for pool in pools[0:5]:\n",
    "    print(pool)"
   ]
  },
  {
   "attachments": {},
   "cell_type": "markdown",
   "metadata": {},
   "source": [
    "## Get quote estimates for a swap\n",
    "\n",
    "Get quote estimates for a swap. Note that all asset amounts represented as 1e8 decimals. For example, 0.3 ETH is represented as `0.3 * 10^8 = 30000000`."
   ]
  },
  {
   "cell_type": "code",
   "execution_count": null,
   "metadata": {},
   "outputs": [],
   "source": [
    "from thorchainpy.api.quote.quoteswap import sync as get_quote_swap\n",
    "\n",
    "eth_amount = 30000000\n",
    "\n",
    "quoteswap = get_quote_swap(\n",
    "  client=client,\n",
    "  from_asset=\"ETH.ETH\",\n",
    "  to_asset=\"BTC.BTC\",\n",
    "  amount=eth_amount,\n",
    ")\n",
    "\n",
    "print(quoteswap)\n",
    "\n",
    "btc_amount = int(quoteswap.expected_amount_out) / (10 ** 8)\n",
    "fees = int(quoteswap.fees.outbound) / (10 ** 8)\n",
    "\n",
    "print(f\"expected amount: {btc_amount} BTC.BTC\")\n",
    "print(f\"fees {fees} {quoteswap.fees.asset}\")"
   ]
  },
  {
   "attachments": {},
   "cell_type": "markdown",
   "metadata": {},
   "source": [
    "# Blocks"
   ]
  },
  {
   "cell_type": "code",
   "execution_count": null,
   "metadata": {},
   "outputs": [],
   "source": [
    "from thorchainpy.api.network.lastblock import sync as get_lastblocks\n",
    "\n",
    "lastblocks = get_lastblocks(client=client)\n",
    "\n",
    "# print first 5 lastblocks\n",
    "for lastblock in lastblocks[:5]:\n",
    "    print(lastblock)"
   ]
  }
 ],
 "metadata": {
  "kernelspec": {
   "display_name": ".venv",
   "language": "python",
   "name": "python3"
  },
  "language_info": {
   "codemirror_mode": {
    "name": "ipython",
    "version": 3
   },
   "file_extension": ".py",
   "mimetype": "text/x-python",
   "name": "python",
   "nbconvert_exporter": "python",
   "pygments_lexer": "ipython3",
   "version": "3.11.2"
  },
  "orig_nbformat": 4
 },
 "nbformat": 4,
 "nbformat_minor": 2
}
